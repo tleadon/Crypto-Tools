{
  "nbformat": 4,
  "nbformat_minor": 0,
  "metadata": {
    "colab": {
      "provenance": [],
      "toc_visible": true
    },
    "kernelspec": {
      "name": "python3",
      "display_name": "Python 3"
    },
    "language_info": {
      "name": "python"
    }
  },
  "cells": [
    {
      "cell_type": "code",
      "execution_count": 2,
      "metadata": {
        "colab": {
          "base_uri": "https://localhost:8080/"
        },
        "id": "zn-lsk0STfN3",
        "outputId": "7f6dc8fe-094c-4f5a-cf7a-35cdb6dbf770"
      },
      "outputs": [
        {
          "output_type": "stream",
          "name": "stdout",
          "text": [
            "Requirement already satisfied: beautifulsoup4 in /usr/local/lib/python3.11/dist-packages (4.12.3)\n",
            "Requirement already satisfied: requests in /usr/local/lib/python3.11/dist-packages (2.32.3)\n",
            "Requirement already satisfied: soupsieve>1.2 in /usr/local/lib/python3.11/dist-packages (from beautifulsoup4) (2.6)\n",
            "Requirement already satisfied: charset-normalizer<4,>=2 in /usr/local/lib/python3.11/dist-packages (from requests) (3.4.1)\n",
            "Requirement already satisfied: idna<4,>=2.5 in /usr/local/lib/python3.11/dist-packages (from requests) (3.10)\n",
            "Requirement already satisfied: urllib3<3,>=1.21.1 in /usr/local/lib/python3.11/dist-packages (from requests) (2.3.0)\n",
            "Requirement already satisfied: certifi>=2017.4.17 in /usr/local/lib/python3.11/dist-packages (from requests) (2024.12.14)\n"
          ]
        }
      ],
      "source": [
        "!pip install beautifulsoup4 requests"
      ]
    },
    {
      "cell_type": "code",
      "source": [
        "import requests\n",
        "from bs4 import BeautifulSoup\n",
        "import json\n",
        "\n",
        "# URL of the page to scrape (replace with the actual URL)\n",
        "url = 'https://kolscan.io/leaderboard'\n",
        "\n",
        "# Send a GET request to the URL\n",
        "response = requests.get(url)\n",
        "# Parse the page content with BeautifulSoup\n",
        "soup = BeautifulSoup(response.content, 'html.parser')\n",
        "\n",
        "# Find the elements containing names and addresses\n",
        "# This will vary depending on the structure of the webpage\n",
        "# Example assumes names are in <h2> tags and addresses in <p> tags\n",
        "leaderboard_class = 'leaderboard_leaderboardContainer__JEv3z'\n",
        "\n",
        "# Word that the href should start with\n",
        "start_word = '/account/'\n",
        "\n",
        "# Find all <a> elements with href starting with the specified word\n",
        "a_tags = soup.find_all('a', href=lambda href: href and href.startswith(start_word))\n",
        "\n",
        "# Print the href of each <a> tag found\n",
        "wallets = []\n",
        "names = []\n",
        "\n",
        "for a in a_tags:\n",
        "  wallets.append(a['href'][9:])\n",
        "\n",
        "for a in a_tags:\n",
        "    names.append(a.text)\n",
        "\n",
        "data = [\n",
        "    {\n",
        "        \"name\": name,\n",
        "        \"address\": address,\n",
        "        \"emoji\": \"😀\",\n",
        "        \"tags\": []\n",
        "    }\n",
        "    for name, address in zip(names, wallets)\n",
        "]\n",
        "\n",
        "print(data)\n",
        "\n",
        "# Convert the list of dictionaries to JSON format\n",
        "json_data = json.dumps(data, indent=4)\n",
        "\n",
        "# Save the JSON data to a file\n",
        "with open('names_and_addresses.json', 'w') as file:\n",
        "    file.write(json_data)\n",
        "\n",
        "print(\"Names and addresses scraped and saved to 'names_and_addresses.json'\")"
      ],
      "metadata": {
        "colab": {
          "base_uri": "https://localhost:8080/"
        },
        "id": "vYeJZwcOTs7z",
        "outputId": "74a4b8a8-fe37-48b5-81cc-fd8180176043"
      },
      "execution_count": 18,
      "outputs": [
        {
          "output_type": "stream",
          "name": "stdout",
          "text": [
            "[{'name': 'Cooker', 'address': '8deJ9xeUvXSJwicYptA9mHsU2rN2pDx37KWzkDkEXhU6', 'emoji': '😀', 'tags': []}, {'name': 'Rowdy', 'address': 'DKgvpfttzmJqZXdavDwTxwSVkajibjzJnN2FA99dyciK', 'emoji': '😀', 'tags': []}, {'name': 'Bastille', 'address': '3kebnKw7cPdSkLRfiMEALyZJGZ4wdiSRvmoN4rD1yPzV', 'emoji': '😀', 'tags': []}, {'name': 'Mr. Frog', 'address': '4DdrfiDHpmx55i4SPssxVzS9ZaKLb8qr45NKY9Er9nNh', 'emoji': '😀', 'tags': []}, {'name': 'Assasin.eth', 'address': '6LChaYRYtEYjLEHhzo4HdEmgNwu2aia8CM8VhR9wn6n7', 'emoji': '😀', 'tags': []}, {'name': 'Leens', 'address': '7Dt5oUpxHWuKH8bCTXDLz2j3JyxA7jEmtzqCG6pnh96X', 'emoji': '😀', 'tags': []}, {'name': 'Dex', 'address': 'mW4PZB45isHmnjGkLpJvjKBzVS5NXzTJ8UDyug4gTsM', 'emoji': '😀', 'tags': []}, {'name': 'Kev', 'address': 'JDd3hy3gQn2V982mi1zqhNqUw1GfV2UL6g76STojCJPN', 'emoji': '😀', 'tags': []}, {'name': 'Pow', 'address': '8zFZHuSRuDpuAR7J6FzwyF3vKNx4CVW3DFHJerQhc7Zd', 'emoji': '😀', 'tags': []}, {'name': 'Casino', 'address': '6RYVUPzp1rPaDQth8LaNLaMcZg4HRe3L9LhpJDV9ZZWf', 'emoji': '😀', 'tags': []}, {'name': 'Classic', 'address': 'DsqRyTUh1R37asYcVf1KdX4CNnz5DKEFmnXvgT4NfTPE', 'emoji': '😀', 'tags': []}, {'name': 'Euris', 'address': 'DfMxre4cKmvogbLrPigxmibVTTQDuzjdXojWzjCXXhzj', 'emoji': '😀', 'tags': []}, {'name': 'Gake', 'address': 'DNfuF1L62WWyW3pNakVkyGGFzVVhj4Yr52jSmdTyeBHm', 'emoji': '😀', 'tags': []}, {'name': 'Zinc', 'address': '7CeeipDnoTVE343cfmNuaEPL1BWLBzFKL2jzHcqBXN9c', 'emoji': '😀', 'tags': []}, {'name': 'Spuno', 'address': 'GfXQesPe3Zuwg8JhAt6Cg8euJDTVx751enp9EQQmhzPH', 'emoji': '😀', 'tags': []}, {'name': 'Nach', 'address': '9jyqFiLnruggwNn4EQwBNFXwpbLM9hrA4hV59ytyAVVz', 'emoji': '😀', 'tags': []}, {'name': 'Daumen', 'address': '8MaVa9kdt3NW4Q5HyNAm1X5LbR8PQRVDc1W8NMVK88D5', 'emoji': '😀', 'tags': []}, {'name': 'Meechie', 'address': '831qmkeGhfL8YpcXuhrug6nHj1YdK3aXMDQUCo85Auh1', 'emoji': '😀', 'tags': []}, {'name': 'Orange', 'address': '96sErVjEN7LNJ6Uvj63bdRWZxNuBngj56fnT9biHLKBf', 'emoji': '😀', 'tags': []}, {'name': 'Frank', 'address': 'CRVidEDtEUTYZisCxBZkpELzhQc9eauMLR3FWg74tReL', 'emoji': '😀', 'tags': []}, {'name': 'Red', 'address': '7ABz8qEFZTHPkovMDsmQkm64DZWN5wRtU7LEtD2ShkQ6', 'emoji': '😀', 'tags': []}, {'name': '404Flipped', 'address': 'AbcX4XBm7DJ3i9p29i6sU8WLmiW4FWY5tiwB9D6UBbcE', 'emoji': '😀', 'tags': []}, {'name': 'Brox', 'address': '7VBTpiiEjkwRbRGHJFUz6o5fWuhPFtAmy8JGhNqwHNnn', 'emoji': '😀', 'tags': []}, {'name': 'Waddles', 'address': '73LnJ7G9ffBDjEBGgJDdgvLUhD5APLonKrNiHsKDCw5B', 'emoji': '😀', 'tags': []}, {'name': 'Earl', 'address': 'F2SuErm4MviWJ2HzKXk2nuzBC6xe883CFWUDCPz6cyWm', 'emoji': '😀', 'tags': []}, {'name': 'Mezoteric', 'address': 'EdDCRfDDeiiDXdntrP59abH4DXHFNU48zpMPYisDMjA7', 'emoji': '😀', 'tags': []}, {'name': 'S', 'address': 'ApRnQN2HkbCn7W2WWiT2FEKvuKJp9LugRyAE1a9Hdz1', 'emoji': '😀', 'tags': []}, {'name': 'Dan176', 'address': '78PjYqo3TtKZ2fa84yR117FeqXEmHdasZP2acQZqVSWj', 'emoji': '😀', 'tags': []}, {'name': 'AP', 'address': '215nhcAHjQQGgwpQSJQ7zR26etbjjtVdW74NLzwEgQjP', 'emoji': '😀', 'tags': []}, {'name': 'MoneyMaykah', 'address': '2CXbN6nuTTb4vCrtYM89SfQHMMKGPAW4mvFe6Ht4Yo6z', 'emoji': '😀', 'tags': []}, {'name': 'ChartFu', 'address': '7i7vHEv87bs135DuoJVKe9c7abentawA5ydfWcWc8iY2', 'emoji': '😀', 'tags': []}, {'name': 'Michi', 'address': '9UHDRLLLFNzmnnguJkhCDJTwx2fYyHfjjdagwieCzz3q', 'emoji': '😀', 'tags': []}, {'name': 'Groovy', 'address': '34ZEH778zL8ctkLwxxERLX5ZnUu6MuFyX9CWrs8kucMw', 'emoji': '😀', 'tags': []}, {'name': 'Sabby', 'address': '9K18MstUaXmSFSBoa9qDTqWTnYhTZqdgEhuKRTVRgh6g', 'emoji': '😀', 'tags': []}, {'name': 'Dior', 'address': 'D2wBctC1K2mEtA17i8ZfdEubkiksiAH2j8F7ri3ec71V', 'emoji': '😀', 'tags': []}, {'name': 'Dutch', 'address': '9vWutdTBs66hWkeCmxaLFpkKy4q5RSe8DsFjfdxj5yFA', 'emoji': '😀', 'tags': []}, {'name': 'The Doc', 'address': 'DYAn4XpAkN5mhiXkRB7dGq4Jadnx6XYgu8L5b3WGhbrt', 'emoji': '😀', 'tags': []}, {'name': 'Decu', 'address': '4vw54BmAogeRV3vPKWyFet5yf8DTLcREzdSzx4rw9Ud9', 'emoji': '😀', 'tags': []}, {'name': 'Orangie', 'address': '26kZ9rg8Y5pd4j1tdT4cbT8BQRu5uDbXkaVs3L5QasHy', 'emoji': '😀', 'tags': []}, {'name': 'Rektober', 'address': 'HCQb4Qrtk4qCfChDH8XvM5onymmCSmRj9bddV6QCPdRe', 'emoji': '😀', 'tags': []}, {'name': 'Idontpaytaxes', 'address': 'FEYmfSL4B3Hhk5BzyEJNpHRiwAoMvzdNe2oa1UTKmbYT', 'emoji': '😀', 'tags': []}, {'name': 'Aroa', 'address': 'BkLsbxUeUEP3Yytdt2m84BzSKMnex9qn5HtERmYWqv8Q', 'emoji': '😀', 'tags': []}, {'name': 'Zyaf', 'address': '8QVfDrEPy3NqgecFea7N9nhiv1ZtYur8TSx53TzNvNpb', 'emoji': '😀', 'tags': []}, {'name': 'Prosciutto', 'address': '4EsY8HQB4Ak65diFrSHjwWhKSGC8sKmnzyusM993gk2w', 'emoji': '😀', 'tags': []}, {'name': 'Joji', 'address': '525LueqAyZJueCoiisfWy6nyh4MTvmF4X9jSqi6efXJT', 'emoji': '😀', 'tags': []}, {'name': 'Ansem', 'address': 'AVAZvHLR2PcWpDf8BXY4rVxNHYRBytycHkcB5z5QNXYm', 'emoji': '😀', 'tags': []}, {'name': 'CC2', 'address': 'B3beyovNKBo4wF1uFrfGfpVeyEHjFyJPmEBciz7kpnoS', 'emoji': '😀', 'tags': []}, {'name': 'Polar', 'address': 'AMNDjQBYdPhLMKbzwUggXdaWGZJ15Gqfw6trsdjmAS4p', 'emoji': '😀', 'tags': []}, {'name': 'Roxo', 'address': 'AE3tJDEyUdwBM8ZoUb3iCo563gMbq26JtckfvjcVZbSa', 'emoji': '😀', 'tags': []}, {'name': 'ShockedJS', 'address': '4Bq5yvgoiZDsukGERb7aM52jDmbVPCpoihbztscZ5PeM', 'emoji': '😀', 'tags': []}, {'name': 'Solana Plays', 'address': 'D6JrzpAKtLT4XQmgVKxdKZwFxJ4HmZWVKmMfKEK4av6d', 'emoji': '😀', 'tags': []}, {'name': 'Lucas', 'address': 'EHqHhw2mdRk3c6oMJdpq1f42iLJK4A4dQ3xeMbhaZjc3', 'emoji': '😀', 'tags': []}, {'name': 'Profitier', 'address': 'FbvUU5qvD9JsU9jp3KDweCpZiVZHLoQBQ1PPCAAbd6FB', 'emoji': '😀', 'tags': []}, {'name': 'Issa', 'address': '2BU3NAzgRA2gg2MpzwwXpA8X4CCRaLgrf6TY1FKfJPX2', 'emoji': '😀', 'tags': []}, {'name': 'Ofye', 'address': 'DnjhUSUo9vaywQ1DMxx9KWo5xZ4pPHoAn5aVnG5VwAso', 'emoji': '😀', 'tags': []}, {'name': 'Mitch', 'address': '4Be9CvxqHW6BYiRAxW9Q3xu1ycTMWaL5z8NX4HR3ha7t', 'emoji': '😀', 'tags': []}, {'name': 'Lynk', 'address': '6DBFUngmz6BVQNF9dpBcavsgZreQK9jb2TeK4Q6sxbdJ', 'emoji': '😀', 'tags': []}, {'name': 'Moggi', 'address': 'c3XGUoDSBaJDA8qaJ5pUkCnamMERwZLJBVjxdkNepGo', 'emoji': '😀', 'tags': []}, {'name': 'Obijai', 'address': 'C4BWYccLsbeHgZzVupFZJGvJK2nQpn8em9WtzURH4gZW', 'emoji': '😀', 'tags': []}, {'name': '0xWinged', 'address': 'HrCPnDvDgbpbFxKxer6Pw3qEcfAQQNNjb6aJNFWgTEng', 'emoji': '😀', 'tags': []}, {'name': 'Xet', 'address': '9yGxZ43ngT7LvwquVdUAYPvJzVyY65cS6mQvuJXjTEUc', 'emoji': '😀', 'tags': []}, {'name': 'Lunix', 'address': '4F2AHuw55m9ojKpFfsofmhAwB979ECVRFVurEam4phqU', 'emoji': '😀', 'tags': []}, {'name': 'Chefin', 'address': '6Qs6joB349h7zu1z9xRgPgMSmpBYLDQb2wtAecY4LysH', 'emoji': '😀', 'tags': []}, {'name': 'Bobby', 'address': 'DBmRHNbSsVX8F6NyVaaaiuGdwo1aYGawiy3jfNcvXYSC', 'emoji': '😀', 'tags': []}, {'name': 'BagCalls', 'address': '4AHgEkTsGqY77qtde4UJn9yZCrbGcM7UM3vjT3qM4G5H', 'emoji': '😀', 'tags': []}, {'name': 'Jazz', 'address': 'Ds8mcuP5r2phg596mLui3ti3PJtVvFRw19Eo9UFdJ5Bc', 'emoji': '😀', 'tags': []}, {'name': 'TheDefiApe', 'address': 'ExKCuoAzJCgCVjU3CvNoL8vVrdESTWkx3ubj6rQXwQM4', 'emoji': '😀', 'tags': []}, {'name': 'Insentos', 'address': '7SDs3PjT2mswKQ7Zo4FTucn9gJdtuW4jaacPA65BseHS', 'emoji': '😀', 'tags': []}, {'name': 'Scooter', 'address': 'iWinRYGEWcaFFqWfgjh28jnqWL72XUMmUfhADpTQaRL', 'emoji': '😀', 'tags': []}, {'name': 'Xelf', 'address': '9Vk7pkBZ9KFJmzaPzNYjGedyz8qoKMQtnYyYi2AehNMT', 'emoji': '😀', 'tags': []}, {'name': 'Lyxe', 'address': 'HLv6yCEpgjQV9PcKsvJpem8ESyULTyh9HjHn9CtqSek1', 'emoji': '😀', 'tags': []}, {'name': 'Gorilla Capital', 'address': 'DpNVrtA3ERfKzX4F8Pi2CVykdJJjoNxyY5QgoytAwD26', 'emoji': '😀', 'tags': []}, {'name': 'Beaver', 'address': 'GM7Hrz2bDq33ezMtL6KGidSWZXMWgZ6qBuugkb5H8NvN', 'emoji': '😀', 'tags': []}, {'name': 'Yenni', 'address': '5B52w1ZW9tuwUduueP5J7HXz5AcGfruGoX6YoAudvyxG', 'emoji': '😀', 'tags': []}, {'name': 'Wolf', 'address': 'Bqcnecs7uv1cakup5daGToD3mUAiErHouGKvtk3VCmp2', 'emoji': '😀', 'tags': []}, {'name': 'Jay', 'address': 'HwRnKq7RPtKHvX9wyHsc1zvfHtGjPQa5tyZtGtbvfXE', 'emoji': '😀', 'tags': []}, {'name': 'Jordan', 'address': 'EAnB5151L8ejp3SM6haLgyv3snk6oqc8acKgWEg9T5J', 'emoji': '😀', 'tags': []}, {'name': 'Jidn', 'address': '3h65MmPZksoKKyEpEjnWU2Yk2iYT5oZDNitGy5cTaxoE', 'emoji': '😀', 'tags': []}, {'name': 'Profit', 'address': 'G5nxEXuFMfV74DSnsrSatqCW32F34XUnBeq3PfDS7w5E', 'emoji': '😀', 'tags': []}]\n",
            "Names and addresses scraped and saved to 'names_and_addresses.json'\n"
          ]
        }
      ]
    },
    {
      "cell_type": "markdown",
      "source": [],
      "metadata": {
        "id": "YsATO1ScUwUw"
      }
    }
  ]
}